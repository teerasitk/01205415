{
  "cells": [
    {
      "cell_type": "markdown",
      "metadata": {
        "id": "view-in-github",
        "colab_type": "text"
      },
      "source": [
        "<a href=\"https://colab.research.google.com/github/teerasitk/01205415/blob/main/Assignment08_2024.ipynb\" target=\"_parent\"><img src=\"https://colab.research.google.com/assets/colab-badge.svg\" alt=\"Open In Colab\"/></a>"
      ]
    },
    {
      "cell_type": "markdown",
      "metadata": {
        "id": "RfKwpDz6gwKi"
      },
      "source": [
        "# Assignment 8\n",
        "Portfolio Optimization and Pair Trading Stategy"
      ]
    },
    {
      "cell_type": "code",
      "source": [
        "!pip install yfinance\n",
        "import pandas as pd\n",
        "import yfinance as yf\n",
        "import numpy as np\n",
        "import matplotlib.pyplot as plt\n",
        "from typing import Tuple"
      ],
      "metadata": {
        "colab": {
          "base_uri": "https://localhost:8080/"
        },
        "id": "jEC7Vz-KS9hS",
        "outputId": "cc4a88c8-468e-4143-b4dc-2d53933b75aa"
      },
      "execution_count": null,
      "outputs": [
        {
          "output_type": "stream",
          "name": "stdout",
          "text": [
            "Requirement already satisfied: yfinance in /usr/local/lib/python3.10/dist-packages (0.2.37)\n",
            "Requirement already satisfied: pandas>=1.3.0 in /usr/local/lib/python3.10/dist-packages (from yfinance) (1.5.3)\n",
            "Requirement already satisfied: numpy>=1.16.5 in /usr/local/lib/python3.10/dist-packages (from yfinance) (1.25.2)\n",
            "Requirement already satisfied: requests>=2.31 in /usr/local/lib/python3.10/dist-packages (from yfinance) (2.31.0)\n",
            "Requirement already satisfied: multitasking>=0.0.7 in /usr/local/lib/python3.10/dist-packages (from yfinance) (0.0.11)\n",
            "Requirement already satisfied: lxml>=4.9.1 in /usr/local/lib/python3.10/dist-packages (from yfinance) (4.9.4)\n",
            "Requirement already satisfied: appdirs>=1.4.4 in /usr/local/lib/python3.10/dist-packages (from yfinance) (1.4.4)\n",
            "Requirement already satisfied: pytz>=2022.5 in /usr/local/lib/python3.10/dist-packages (from yfinance) (2023.4)\n",
            "Requirement already satisfied: frozendict>=2.3.4 in /usr/local/lib/python3.10/dist-packages (from yfinance) (2.4.0)\n",
            "Requirement already satisfied: peewee>=3.16.2 in /usr/local/lib/python3.10/dist-packages (from yfinance) (3.17.1)\n",
            "Requirement already satisfied: beautifulsoup4>=4.11.1 in /usr/local/lib/python3.10/dist-packages (from yfinance) (4.12.3)\n",
            "Requirement already satisfied: html5lib>=1.1 in /usr/local/lib/python3.10/dist-packages (from yfinance) (1.1)\n",
            "Requirement already satisfied: soupsieve>1.2 in /usr/local/lib/python3.10/dist-packages (from beautifulsoup4>=4.11.1->yfinance) (2.5)\n",
            "Requirement already satisfied: six>=1.9 in /usr/local/lib/python3.10/dist-packages (from html5lib>=1.1->yfinance) (1.16.0)\n",
            "Requirement already satisfied: webencodings in /usr/local/lib/python3.10/dist-packages (from html5lib>=1.1->yfinance) (0.5.1)\n",
            "Requirement already satisfied: python-dateutil>=2.8.1 in /usr/local/lib/python3.10/dist-packages (from pandas>=1.3.0->yfinance) (2.8.2)\n",
            "Requirement already satisfied: charset-normalizer<4,>=2 in /usr/local/lib/python3.10/dist-packages (from requests>=2.31->yfinance) (3.3.2)\n",
            "Requirement already satisfied: idna<4,>=2.5 in /usr/local/lib/python3.10/dist-packages (from requests>=2.31->yfinance) (3.6)\n",
            "Requirement already satisfied: urllib3<3,>=1.21.1 in /usr/local/lib/python3.10/dist-packages (from requests>=2.31->yfinance) (2.0.7)\n",
            "Requirement already satisfied: certifi>=2017.4.17 in /usr/local/lib/python3.10/dist-packages (from requests>=2.31->yfinance) (2024.2.2)\n"
          ]
        }
      ]
    },
    {
      "cell_type": "code",
      "source": [
        "day_per_year = 252"
      ],
      "metadata": {
        "id": "TeG4ZFM0UhG2"
      },
      "execution_count": null,
      "outputs": []
    },
    {
      "cell_type": "code",
      "source": [
        "def getMVPortfolio(mu: np.ndarray, # average return vector assets\n",
        "                   cov_mat: np.ndarray # covarance matrix of assets\n",
        "                   ) -> np.ndarray:\n",
        "  \"\"\"\n",
        "    Find minumum variance portfolio with average target return at r_star\n",
        "  \"\"\"\n",
        "  n = len(mu) # number of assets\n",
        "  A = np.zeros((n + 1 , n + 1))\n",
        "  b = np.zeros((n + 1 ,))\n",
        "  ones = np.ones((n,))\n",
        "  A[:n, :n] = cov_mat\n",
        "  A[:n, n ] = -ones\n",
        "  A[n, :n] = ones\n",
        "  b[n ] = 1\n",
        "  x = np.linalg.solve(A,b)\n",
        "  w_opt = x[:n]\n",
        "  return w_opt"
      ],
      "metadata": {
        "id": "LNh-oG5rUt0x"
      },
      "execution_count": null,
      "outputs": []
    },
    {
      "cell_type": "code",
      "source": [
        "def getOptimumPortfolio(mu: np.ndarray, # average return vector assets\n",
        "                        cov_mat: np.ndarray, # covarance matrix of assets\n",
        "                        r_star: float) -> np.ndarray:\n",
        "  \"\"\"\n",
        "    Find optimum portfolio with average target return at r_star\n",
        "  \"\"\"\n",
        "  n = len(mu) # number of assets\n",
        "  A = np.zeros((n + 1 + 1, n + 1 +1))\n",
        "  b = np.zeros((n + 1 +1,))\n",
        "  ones = np.ones((n,))\n",
        "  A[:n, :n] = cov_mat * day_per_year* day_per_year\n",
        "  A[:n, n] = - mu * day_per_year\n",
        "  A[:n, n + 1] = -ones\n",
        "  A[n, :n] = mu *day_per_year\n",
        "  A[n+1, :n] = ones\n",
        "  b[n] = r_star #/ day_per_year # change to daily target returns\n",
        "  b[n + 1] = 1\n",
        "  x = np.linalg.solve(A,b)\n",
        "  w_opt = x[:n]\n",
        "  return w_opt"
      ],
      "metadata": {
        "id": "y4Vrgh2RUexF"
      },
      "execution_count": null,
      "outputs": []
    },
    {
      "cell_type": "code",
      "source": [
        "def findPortRetunAndRisk(w: np.ndarray,\n",
        "                         mu:np.ndarray,\n",
        "                         cov_mat: np.ndarray,\n",
        "                         ):\n",
        "  mu_port = np.dot(w, mu) * day_per_year\n",
        "  sigma_port =  np.sqrt(np.dot(np.dot(w.T, cov_mat), w) * day_per_year)\n",
        "  return mu_port, sigma_port"
      ],
      "metadata": {
        "id": "MyiS0ikqVXPh"
      },
      "execution_count": null,
      "outputs": []
    },
    {
      "cell_type": "code",
      "source": [
        "def buildEfficientFrontier(mu: np.ndarray, # average return vector assets\n",
        "                           cov_mat: np.ndarray, # covarance matrix of assets\n",
        "                           r_max: float = None # None for default value\n",
        "                           ) -> Tuple[np.ndarray, np.ndarray]:\n",
        "  \"\"\"\n",
        "\n",
        "  \"\"\"\n",
        "  w_mvp = getMVPortfolio(mu, cov_mat)\n",
        "  r_min = np.dot(w_mvp , mu)  * day_per_year\n",
        "  if r_max is None:\n",
        "    r_max = mu.max() * 1.5  * day_per_year\n",
        "  print(r_min, r_max)\n",
        "  mean_array = np.linspace(r_min, r_max, 1000)\n",
        "  vol_array = np.zeros((1000,))\n",
        "  for k, r in enumerate(mean_array):\n",
        "    w_opt = getOptimumPortfolio(mu, cov_mat, r_star=r)\n",
        "    r, vol = findPortRetunAndRisk(w_opt, mu, cov_mat)\n",
        "    vol_array[k] = vol\n",
        "  return mean_array, vol_array"
      ],
      "metadata": {
        "id": "LSaDVGaEUmYu"
      },
      "execution_count": null,
      "outputs": []
    },
    {
      "cell_type": "markdown",
      "metadata": {
        "id": "F5kxsa43u4TE"
      },
      "source": [
        "# 1. Find Efficient Market Porfolio for 2021-2023 from stocks in the list given below"
      ]
    },
    {
      "cell_type": "code",
      "execution_count": null,
      "metadata": {
        "id": "f0AH6c2zn-sk"
      },
      "outputs": [],
      "source": [
        "stock_list = [ 'BANPU', 'BDMS','EA', 'GULF', 'IVL','KTB','OR','TU']"
      ]
    },
    {
      "cell_type": "code",
      "execution_count": null,
      "metadata": {
        "colab": {
          "base_uri": "https://localhost:8080/"
        },
        "id": "XVbW7SwirhDx",
        "outputId": "6a11a33f-21cd-4684-c723-35354cd313b2"
      },
      "outputs": [
        {
          "output_type": "stream",
          "name": "stderr",
          "text": [
            "[*********************100%%**********************]  1 of 1 completed\n",
            "[*********************100%%**********************]  1 of 1 completed\n",
            "[*********************100%%**********************]  1 of 1 completed\n",
            "[*********************100%%**********************]  1 of 1 completed\n",
            "[*********************100%%**********************]  1 of 1 completed\n",
            "[*********************100%%**********************]  1 of 1 completed\n",
            "[*********************100%%**********************]  1 of 1 completed\n",
            "[*********************100%%**********************]  1 of 1 completed\n",
            "[*********************100%%**********************]  1 of 1 completed\n",
            "[*********************100%%**********************]  1 of 1 completed\n",
            "[*********************100%%**********************]  1 of 1 completed\n",
            "[*********************100%%**********************]  1 of 1 completed\n",
            "[*********************100%%**********************]  1 of 1 completed\n",
            "[*********************100%%**********************]  1 of 1 completed\n",
            "[*********************100%%**********************]  1 of 1 completed\n",
            "[*********************100%%**********************]  1 of 1 completed\n",
            "[*********************100%%**********************]  1 of 1 completed\n",
            "[*********************100%%**********************]  1 of 1 completed\n",
            "[*********************100%%**********************]  1 of 1 completed\n",
            "[*********************100%%**********************]  1 of 1 completed\n",
            "[*********************100%%**********************]  1 of 1 completed\n",
            "[*********************100%%**********************]  1 of 1 completed\n",
            "[*********************100%%**********************]  1 of 1 completed\n",
            "[*********************100%%**********************]  1 of 1 completed\n",
            "[*********************100%%**********************]  1 of 1 completed\n",
            "[*********************100%%**********************]  1 of 1 completed\n",
            "[*********************100%%**********************]  1 of 1 completed\n",
            "[*********************100%%**********************]  1 of 1 completed\n",
            "[*********************100%%**********************]  1 of 1 completed\n",
            "[*********************100%%**********************]  1 of 1 completed\n",
            "[*********************100%%**********************]  1 of 1 completed\n",
            "[*********************100%%**********************]  1 of 1 completed\n",
            "[*********************100%%**********************]  1 of 1 completed\n",
            "[*********************100%%**********************]  1 of 1 completed\n",
            "[*********************100%%**********************]  1 of 1 completed\n",
            "[*********************100%%**********************]  1 of 1 completed\n",
            "[*********************100%%**********************]  1 of 1 completed\n",
            "[*********************100%%**********************]  1 of 1 completed\n",
            "[*********************100%%**********************]  1 of 1 completed\n",
            "[*********************100%%**********************]  1 of 1 completed\n",
            "[*********************100%%**********************]  1 of 1 completed\n",
            "[*********************100%%**********************]  1 of 1 completed\n",
            "[*********************100%%**********************]  1 of 1 completed\n",
            "[*********************100%%**********************]  1 of 1 completed\n",
            "[*********************100%%**********************]  1 of 1 completed\n",
            "[*********************100%%**********************]  1 of 1 completed\n",
            "[*********************100%%**********************]  1 of 1 completed\n",
            "[*********************100%%**********************]  1 of 1 completed\n"
          ]
        }
      ],
      "source": [
        "stock_info = dict() # create empty dictionary\n",
        "for sym in stock_list:\n",
        "  df = yf.download(sym + \".BK\", start=\"2021-01-01\", end=\"2023-12-31\") # download 2023 data\n",
        "  close_price = df['Close']\n",
        "  ret = close_price.pct_change(1)\n",
        "  ret = ret.dropna()\n",
        "  stock_info[sym] = ret\n",
        "returns = pd.DataFrame(data=stock_info, index=ret.index)"
      ]
    },
    {
      "cell_type": "code",
      "source": [
        "# Your code is hdre\n",
        "target = 0.1"
      ],
      "metadata": {
        "id": "xg05aMNNTMRj"
      },
      "execution_count": null,
      "outputs": []
    },
    {
      "cell_type": "markdown",
      "metadata": {
        "id": "BsLmIB7kvZ4H"
      },
      "source": [
        "## Solution: Rank stocks in the market portfolio based on the magnitude of the position.\n",
        "1.  ___ \tPosition:Long or short\n",
        "2. ___ \tPosition:Long or short\n",
        "3. ___ \tPosition:Long or short\n",
        "4. ___ \tPosition:Long or short\n",
        "5. ___ \tPosition:Long or short\n",
        "6. ___ \tPosition:Long or short\n",
        "7. ___ \tPosition:Long or short\n",
        "8. ___ \tPosition:Long or short"
      ]
    },
    {
      "cell_type": "markdown",
      "metadata": {
        "id": "WUWclSVZ0xhE"
      },
      "source": [
        "# 2. Do you think it is possible to construct the market portfolio? why?\n"
      ]
    },
    {
      "cell_type": "markdown",
      "metadata": {
        "id": "QyFnh_Gx09ip"
      },
      "source": [
        "## Solution:\n"
      ]
    },
    {
      "cell_type": "markdown",
      "metadata": {
        "id": "JcA8ls3tw22N"
      },
      "source": [
        "#3. Plot the Capital Market Line where $r_f=2\\%$"
      ]
    },
    {
      "cell_type": "code",
      "source": [
        "import scipy.optimize as opt\n",
        "from typing import Tuple\n",
        "def findMarketPortfolio(mu_array:np.ndarray,\n",
        "                        cov_mat:np.ndarray ,\n",
        "                        rf:float\n",
        "                        ) -> Tuple[np.ndarray, float, float]:\n",
        "  \"\"\"\n",
        "    Find Market Portfolio for a given risk-free interest rate\n",
        "    :param data_frames: data_frames of simple returns\n",
        "    :param rf: risk-free interest rate\n",
        "    :return:\n",
        "      w_opt: Market portfolio\n",
        "      vol_opt: volatility of the market portfolio\n",
        "      ret_best: return of the market portfolio\n",
        "  \"\"\"\n",
        "  def sharpe_ratio(target_ret):\n",
        "    w = getOptimumPortfolio(mu_array, cov_mat, target_ret)\n",
        "    mu, sigma = findPortRetunAndRisk(w, mu_array, cov_mat)\n",
        "    return (mu - rf)/sigma\n",
        "  r_max = -1e100\n",
        "  days_in_year = 365\n",
        "  w_mvp = getMVPortfolio(mu_array, cov_mat)\n",
        "  r_min, sigma_min = findPortRetunAndRisk(w_mvp, mu_array, cov_mat)\n",
        "  best_solution = opt.minimize(lambda x: -sharpe_ratio(x), r_min)\n",
        "  ret_best = best_solution['x'][0]\n",
        "  w_opt = getOptimumPortfolio(mu_array, cov_mat, ret_best)\n",
        "  mu_opt, sigma_opt = findPortRetunAndRisk(w_opt, mu_array, cov_mat)\n",
        "  return w_opt , sigma_opt, mu_opt\n"
      ],
      "metadata": {
        "id": "M2nn31zcTtqm"
      },
      "execution_count": null,
      "outputs": []
    },
    {
      "cell_type": "code",
      "source": [
        "def plotCapitalMarketLine(mu, cov_mat,\n",
        "                          w_market:np.ndarray,\n",
        "                          vol_market:float,\n",
        "                          ret_market:float,\n",
        "                          rf:float):\n",
        "  \"\"\"\n",
        "  Plot the capital market line\n",
        "  :param data_frames: Simple return\n",
        "  :param w_market: Market Portfolio\n",
        "  :param vol_mark: Market Portfolio volatility\n",
        "  :param: ret_market: Maker Portfolio Return\n",
        "  :parma: rf: risk-free interest\n",
        "  \"\"\"\n",
        "  rets, vols = buildEfficientFrontier(mu, cov_mat, r_max=ret_market*2)\n",
        "  slope = (ret_market - rf)/vol_market\n",
        "  print(slope)\n",
        "  ret_array_line = vols*slope + rf\n",
        "  plt.plot(vols, rets, vols, ret_array_line)\n",
        "  plt.scatter(vol_market, ret_market, c=\"red\")\n",
        "  plt.text(vol_market*1.01, ret_market, \"Market Portfolio\")\n",
        "  plt.xlabel(\"volatility\")\n",
        "  plt.ylabel(\"return\")\n",
        "  plt.grid()\n",
        "  title = \"Capital Market Line with \"\n",
        "  for symbol in mu.index:\n",
        "    title += symbol +\" \"\n",
        "  plt.title(title)\n",
        "  plt.legend([\"Efficient Frontier\", \"Capital Market Line\"])\n",
        "  plt.show()"
      ],
      "metadata": {
        "id": "dhxr_h27TuSP"
      },
      "execution_count": null,
      "outputs": []
    },
    {
      "cell_type": "code",
      "execution_count": null,
      "metadata": {
        "id": "lykqmo8nsejk"
      },
      "outputs": [],
      "source": [
        "# your code is here"
      ]
    }
  ],
  "metadata": {
    "colab": {
      "provenance": [],
      "include_colab_link": true
    },
    "kernelspec": {
      "display_name": "Python 3",
      "name": "python3"
    },
    "language_info": {
      "name": "python"
    }
  },
  "nbformat": 4,
  "nbformat_minor": 0
}