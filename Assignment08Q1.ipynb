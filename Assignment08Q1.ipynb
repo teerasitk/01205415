{
  "nbformat": 4,
  "nbformat_minor": 0,
  "metadata": {
    "colab": {
      "provenance": [],
      "authorship_tag": "ABX9TyNNm4iu07MKhzB0sErDd2re",
      "include_colab_link": true
    },
    "kernelspec": {
      "name": "python3",
      "display_name": "Python 3"
    },
    "language_info": {
      "name": "python"
    }
  },
  "cells": [
    {
      "cell_type": "markdown",
      "metadata": {
        "id": "view-in-github",
        "colab_type": "text"
      },
      "source": [
        "<a href=\"https://colab.research.google.com/github/teerasitk/01205415/blob/main/Assignment08Q1.ipynb\" target=\"_parent\"><img src=\"https://colab.research.google.com/assets/colab-badge.svg\" alt=\"Open In Colab\"/></a>"
      ]
    },
    {
      "cell_type": "code",
      "execution_count": 1,
      "metadata": {
        "id": "-c-SoPds90JD"
      },
      "outputs": [],
      "source": [
        "import numpy as np\n",
        "import yfinance as yf\n",
        "import pandas as pd\n",
        "import matplotlib.pyplot as plt\n",
        "from typing import Tuple"
      ]
    },
    {
      "cell_type": "code",
      "source": [
        "day_per_year = 250"
      ],
      "metadata": {
        "id": "PbjM57Xq-Qdf"
      },
      "execution_count": 4,
      "outputs": []
    },
    {
      "cell_type": "code",
      "source": [
        "def getOptimumPortfolio(mu: np.ndarray, # average return vector assets\n",
        "                       cov_mat: np.ndarray, # covarance matrix of assets\n",
        "                        r_star: float) -> np.ndarray:\n",
        "  \"\"\"\n",
        "    Find optimum portfolio with average target return at r_star\n",
        "  \"\"\"\n",
        "  n = len(mu) # number of assets\n",
        "  A = np.zeros((n + 1 + 1, n + 1 +1))\n",
        "  b = np.zeros((n + 1 +1,))\n",
        "  ones = np.ones((n,))\n",
        "  A[:n, :n] = cov_mat\n",
        "  A[:n, n] = - mu\n",
        "  A[:n, n + 1] = -ones\n",
        "  A[n, :n] = mu\n",
        "  A[n+1, :n] = ones\n",
        "  b[n] = r_star / day_per_year # change to daily target returns\n",
        "  b[n + 1] = 1\n",
        "  x = np.linalg.solve(A,b)\n",
        "  w_opt = x[:n]\n",
        "  return w_opt"
      ],
      "metadata": {
        "id": "mJFS95YJ93Le"
      },
      "execution_count": 5,
      "outputs": []
    },
    {
      "cell_type": "code",
      "source": [
        "R = np.array([[1,0.2, 0.5, 0.3],\n",
        "              [0.2, 1, 0.7, 0.4],\n",
        "              [0.5, 0.7, 1, 0.9],\n",
        "              [0.3,0.4,0.9, 1]])\n",
        "S = np.diag([0.12, 0.12, 0.15, 0.2])\n",
        "Sigma = np.dot(S,np.dot(R,S))\n",
        "print(R)\n",
        "mu = np.array([0.02, 0.05, 0.02, 0.05])"
      ],
      "metadata": {
        "colab": {
          "base_uri": "https://localhost:8080/"
        },
        "id": "GyV4hk5W96B_",
        "outputId": "4ed79ad5-b969-442d-96c6-6d49241b5de5"
      },
      "execution_count": 15,
      "outputs": [
        {
          "output_type": "stream",
          "name": "stdout",
          "text": [
            "[[1.  0.2 0.5 0.3]\n",
            " [0.2 1.  0.7 0.4]\n",
            " [0.5 0.7 1.  0.9]\n",
            " [0.3 0.4 0.9 1. ]]\n"
          ]
        }
      ]
    },
    {
      "cell_type": "code",
      "source": [
        "risk_free_interests = [0.05, 0.1]\n",
        "for r in risk_free_interests:\n",
        "  w_opt = getOptimumPortfolio(mu=mu, cov_mat=Sigma, r_star=r)\n",
        "  print(f\"Optimum Portfolio for r = {r:0.2f} is: {w_opt}\")"
      ],
      "metadata": {
        "colab": {
          "base_uri": "https://localhost:8080/"
        },
        "id": "2h85sUdl-Ozm",
        "outputId": "733a756e-216f-4133-f79f-6f42a36103b5"
      },
      "execution_count": 16,
      "outputs": [
        {
          "output_type": "stream",
          "name": "stdout",
          "text": [
            "Optimum Portfolio for r = 0.05 is: [ 0.5147149  -0.03830472  1.1452851  -0.62169528]\n",
            "Optimum Portfolio for r = 0.10 is: [ 0.51543021 -0.03547926  1.13790313 -0.61785408]\n"
          ]
        }
      ]
    }
  ]
}