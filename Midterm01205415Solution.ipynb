{
  "nbformat": 4,
  "nbformat_minor": 0,
  "metadata": {
    "colab": {
      "provenance": [],
      "authorship_tag": "ABX9TyMAZo1OH5b01h7Tr9I+4R6s",
      "include_colab_link": true
    },
    "kernelspec": {
      "name": "python3",
      "display_name": "Python 3"
    },
    "language_info": {
      "name": "python"
    }
  },
  "cells": [
    {
      "cell_type": "markdown",
      "metadata": {
        "id": "view-in-github",
        "colab_type": "text"
      },
      "source": [
        "<a href=\"https://colab.research.google.com/github/teerasitk/01205415/blob/main/Midterm01205415Solution.ipynb\" target=\"_parent\"><img src=\"https://colab.research.google.com/assets/colab-badge.svg\" alt=\"Open In Colab\"/></a>"
      ]
    },
    {
      "cell_type": "markdown",
      "source": [
        "# 7. Highest dividends over price\n",
        "Find out during the last year (2022) which stock in SET50 has the highest total dividends in the percentages of its last close price in 2022. Report the highest dividends stock and the percentage over the last close price."
      ],
      "metadata": {
        "id": "TKey2ArJ1mr9"
      }
    },
    {
      "cell_type": "code",
      "execution_count": 2,
      "metadata": {
        "id": "f6OsYqYA0mya"
      },
      "outputs": [],
      "source": [
        "# list of SET 50 stocks\n",
        "\n",
        "set_list = ['ADVANC', 'AOT', 'AWC', 'BANPU', 'BBL', 'BDMS', 'BEM', 'BGRIM', 'BH','BLA', 'BTS', 'CBG', 'CPALL', 'CPF', 'CPN', 'CRC', 'EA', 'EGCO', 'GLOBAL', 'GPSC', 'GULF', 'HMPRO', 'INTUCH', 'IRPC', 'IVL', 'JMART', 'JMT', 'KBANK', 'KCE', 'KTB', 'KTC', 'LH', 'MINT', 'MTC','OR', 'OSP', 'PTT', 'PTTEP', 'PTTGC', 'SAWAD', 'SCC', 'SCGP','TIDLOR', 'TISCO', 'TOP', 'TRUE', 'TTB', 'TU']"
      ]
    },
    {
      "cell_type": "code",
      "source": [
        "# load neccesary libraries\n",
        "!pip install yfinance\n",
        "import yfinance as yf\n",
        "import pandas as pd\n",
        "import numpy as np\n",
        "import requests\n",
        "import matplotlib.pyplot as plt"
      ],
      "metadata": {
        "colab": {
          "base_uri": "https://localhost:8080/"
        },
        "id": "beNlg-PX0yGo",
        "outputId": "ab4c7b73-d948-46b2-cde0-0f1eb67ea2ab"
      },
      "execution_count": 3,
      "outputs": [
        {
          "output_type": "stream",
          "name": "stdout",
          "text": [
            "Requirement already satisfied: yfinance in /usr/local/lib/python3.10/dist-packages (0.2.36)\n",
            "Requirement already satisfied: pandas>=1.3.0 in /usr/local/lib/python3.10/dist-packages (from yfinance) (1.5.3)\n",
            "Requirement already satisfied: numpy>=1.16.5 in /usr/local/lib/python3.10/dist-packages (from yfinance) (1.23.5)\n",
            "Requirement already satisfied: requests>=2.31 in /usr/local/lib/python3.10/dist-packages (from yfinance) (2.31.0)\n",
            "Requirement already satisfied: multitasking>=0.0.7 in /usr/local/lib/python3.10/dist-packages (from yfinance) (0.0.11)\n",
            "Requirement already satisfied: lxml>=4.9.1 in /usr/local/lib/python3.10/dist-packages (from yfinance) (4.9.4)\n",
            "Requirement already satisfied: appdirs>=1.4.4 in /usr/local/lib/python3.10/dist-packages (from yfinance) (1.4.4)\n",
            "Requirement already satisfied: pytz>=2022.5 in /usr/local/lib/python3.10/dist-packages (from yfinance) (2023.3.post1)\n",
            "Requirement already satisfied: frozendict>=2.3.4 in /usr/local/lib/python3.10/dist-packages (from yfinance) (2.4.0)\n",
            "Requirement already satisfied: peewee>=3.16.2 in /usr/local/lib/python3.10/dist-packages (from yfinance) (3.17.0)\n",
            "Requirement already satisfied: beautifulsoup4>=4.11.1 in /usr/local/lib/python3.10/dist-packages (from yfinance) (4.11.2)\n",
            "Requirement already satisfied: html5lib>=1.1 in /usr/local/lib/python3.10/dist-packages (from yfinance) (1.1)\n",
            "Requirement already satisfied: soupsieve>1.2 in /usr/local/lib/python3.10/dist-packages (from beautifulsoup4>=4.11.1->yfinance) (2.5)\n",
            "Requirement already satisfied: six>=1.9 in /usr/local/lib/python3.10/dist-packages (from html5lib>=1.1->yfinance) (1.16.0)\n",
            "Requirement already satisfied: webencodings in /usr/local/lib/python3.10/dist-packages (from html5lib>=1.1->yfinance) (0.5.1)\n",
            "Requirement already satisfied: python-dateutil>=2.8.1 in /usr/local/lib/python3.10/dist-packages (from pandas>=1.3.0->yfinance) (2.8.2)\n",
            "Requirement already satisfied: charset-normalizer<4,>=2 in /usr/local/lib/python3.10/dist-packages (from requests>=2.31->yfinance) (3.3.2)\n",
            "Requirement already satisfied: idna<4,>=2.5 in /usr/local/lib/python3.10/dist-packages (from requests>=2.31->yfinance) (3.6)\n",
            "Requirement already satisfied: urllib3<3,>=1.21.1 in /usr/local/lib/python3.10/dist-packages (from requests>=2.31->yfinance) (2.0.7)\n",
            "Requirement already satisfied: certifi>=2017.4.17 in /usr/local/lib/python3.10/dist-packages (from requests>=2.31->yfinance) (2023.11.17)\n"
          ]
        },
        {
          "output_type": "stream",
          "name": "stderr",
          "text": [
            "/usr/local/lib/python3.10/dist-packages/yfinance/base.py:48: FutureWarning: The default dtype for empty Series will be 'object' instead of 'float64' in a future version. Specify a dtype explicitly to silence this warning.\n",
            "  _empty_series = pd.Series()\n"
          ]
        }
      ]
    },
    {
      "cell_type": "code",
      "source": [
        "# Your code is here\n",
        "dividens = dict() # empty dicts of dividends\n",
        "for sym in set_list:\n",
        "  ticker = yf.Ticker(sym + \".BK\") # get a ticker\n",
        "  prices = ticker.history(start=\"2023-01-01\", end=\"2024-01-01\") # price in 2023\n",
        "  end_prices = prices.Close.iloc[-1] # last close price\n",
        "  dividens[sym] = ticker.dividends.sum()/end_prices # total divideds over close price\n",
        "sort_dividends = sorted(dividens.items(), key=lambda x:x[1]) # sort from smallest to largest\n",
        "sort_dividends"
      ],
      "metadata": {
        "colab": {
          "base_uri": "https://localhost:8080/"
        },
        "id": "CRN6_g0m03f-",
        "outputId": "dbd5d5f9-7309-42cb-f367-2ae2e19f65cc"
      },
      "execution_count": 5,
      "outputs": [
        {
          "output_type": "execute_result",
          "data": {
            "text/plain": [
              "[('TRUE', 0.0),\n",
              " ('AOT', 0.00602510460251046),\n",
              " ('PTTGC', 0.006493506493506494),\n",
              " ('EA', 0.006779661016949152),\n",
              " ('BGRIM', 0.007889908256880733),\n",
              " ('AWC', 0.00898876418942169),\n",
              " ('CRC', 0.011707317073170732),\n",
              " ('GPSC', 0.012371134020618556),\n",
              " ('TIDLOR', 0.012977777777777777),\n",
              " ('CPALL', 0.013392857142857142),\n",
              " ('GULF', 0.01348314606741573),\n",
              " ('CBG', 0.013939393939393939),\n",
              " ('SCC', 0.014705882352941176),\n",
              " ('GLOBAL', 0.014804069110778584),\n",
              " ('IRPC', 0.014851485288747327),\n",
              " ('BEM', 0.015094339984781996),\n",
              " ('CPN', 0.016428571428571428),\n",
              " ('BH', 0.016666666666666666),\n",
              " ('SCGP', 0.016666666666666666),\n",
              " ('MINT', 0.01694915254237288),\n",
              " ('CPF', 0.017857142509593915),\n",
              " ('OR', 0.02094240795869662),\n",
              " ('MTC', 0.021111111111111112),\n",
              " ('KCE', 0.021818181818181816),\n",
              " ('BDMS', 0.02342342342342342),\n",
              " ('KTC', 0.026436781609195402),\n",
              " ('BLA', 0.028000000000000004),\n",
              " ('KBANK', 0.02962962962962963),\n",
              " ('BBL', 0.03194888178913738),\n",
              " ('HMPRO', 0.033333333876737516),\n",
              " ('JMT', 0.036470588235294116),\n",
              " ('KTB', 0.03706521815974232),\n",
              " ('ADVANC', 0.037972350230414745),\n",
              " ('JMART', 0.03815029069978971),\n",
              " ('PTT', 0.04195804195804196),\n",
              " ('IVL', 0.042201834862385317),\n",
              " ('BTS', 0.04275862068965517),\n",
              " ('TOP', 0.043720930232558144),\n",
              " ('SAWAD', 0.044444444444444446),\n",
              " ('TU', 0.04933333333333333),\n",
              " ('EGCO', 0.05078125),\n",
              " ('TTB', 0.06167664829154168),\n",
              " ('PTTEP', 0.061872909698996656),\n",
              " ('INTUCH', 0.06195804195804196),\n",
              " ('LH', 0.06748466573538123),\n",
              " ('OSP', 0.075),\n",
              " ('TISCO', 0.09774436090225563),\n",
              " ('BANPU', 0.14705881940452298)]"
            ]
          },
          "metadata": {},
          "execution_count": 5
        }
      ]
    },
    {
      "cell_type": "markdown",
      "source": [
        "## Answer\n",
        "Highest Dividends over last Close Price: __**BANPU** at **14.7%**_______________________."
      ],
      "metadata": {
        "id": "LimU1oxb1WFm"
      }
    }
  ]
}