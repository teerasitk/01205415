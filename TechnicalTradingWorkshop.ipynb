{
  "nbformat": 4,
  "nbformat_minor": 0,
  "metadata": {
    "colab": {
      "provenance": [],
      "authorship_tag": "ABX9TyPWQF62vQfCip7EToJ6UsMS",
      "include_colab_link": true
    },
    "kernelspec": {
      "name": "python3",
      "display_name": "Python 3"
    },
    "language_info": {
      "name": "python"
    }
  },
  "cells": [
    {
      "cell_type": "markdown",
      "metadata": {
        "id": "view-in-github",
        "colab_type": "text"
      },
      "source": [
        "<a href=\"https://colab.research.google.com/github/teerasitk/01205415/blob/main/TechnicalTradingWorkshop.ipynb\" target=\"_parent\"><img src=\"https://colab.research.google.com/assets/colab-badge.svg\" alt=\"Open In Colab\"/></a>"
      ]
    },
    {
      "cell_type": "markdown",
      "source": [
        "# Install\n",
        "1. yfinance for accessing yahoo finance data\n",
        "2. tensortrade for trade simulation"
      ],
      "metadata": {
        "id": "HzWDkD5644S_"
      }
    },
    {
      "cell_type": "code",
      "execution_count": 1,
      "metadata": {
        "colab": {
          "base_uri": "https://localhost:8080/"
        },
        "id": "0fL3yB5O4ySL",
        "outputId": "b83b0956-daf4-4cf2-a35f-50fe05c5126c"
      },
      "outputs": [
        {
          "output_type": "stream",
          "name": "stdout",
          "text": [
            "Requirement already satisfied: yfinance in /usr/local/lib/python3.10/dist-packages (0.2.36)\n",
            "Requirement already satisfied: pandas>=1.3.0 in /usr/local/lib/python3.10/dist-packages (from yfinance) (1.5.3)\n",
            "Requirement already satisfied: numpy>=1.16.5 in /usr/local/lib/python3.10/dist-packages (from yfinance) (1.23.5)\n",
            "Requirement already satisfied: requests>=2.31 in /usr/local/lib/python3.10/dist-packages (from yfinance) (2.31.0)\n",
            "Requirement already satisfied: multitasking>=0.0.7 in /usr/local/lib/python3.10/dist-packages (from yfinance) (0.0.11)\n",
            "Requirement already satisfied: lxml>=4.9.1 in /usr/local/lib/python3.10/dist-packages (from yfinance) (4.9.4)\n",
            "Requirement already satisfied: appdirs>=1.4.4 in /usr/local/lib/python3.10/dist-packages (from yfinance) (1.4.4)\n",
            "Requirement already satisfied: pytz>=2022.5 in /usr/local/lib/python3.10/dist-packages (from yfinance) (2023.4)\n",
            "Requirement already satisfied: frozendict>=2.3.4 in /usr/local/lib/python3.10/dist-packages (from yfinance) (2.4.0)\n",
            "Requirement already satisfied: peewee>=3.16.2 in /usr/local/lib/python3.10/dist-packages (from yfinance) (3.17.0)\n",
            "Requirement already satisfied: beautifulsoup4>=4.11.1 in /usr/local/lib/python3.10/dist-packages (from yfinance) (4.12.3)\n",
            "Requirement already satisfied: html5lib>=1.1 in /usr/local/lib/python3.10/dist-packages (from yfinance) (1.1)\n",
            "Requirement already satisfied: soupsieve>1.2 in /usr/local/lib/python3.10/dist-packages (from beautifulsoup4>=4.11.1->yfinance) (2.5)\n",
            "Requirement already satisfied: six>=1.9 in /usr/local/lib/python3.10/dist-packages (from html5lib>=1.1->yfinance) (1.16.0)\n",
            "Requirement already satisfied: webencodings in /usr/local/lib/python3.10/dist-packages (from html5lib>=1.1->yfinance) (0.5.1)\n",
            "Requirement already satisfied: python-dateutil>=2.8.1 in /usr/local/lib/python3.10/dist-packages (from pandas>=1.3.0->yfinance) (2.8.2)\n",
            "Requirement already satisfied: charset-normalizer<4,>=2 in /usr/local/lib/python3.10/dist-packages (from requests>=2.31->yfinance) (3.3.2)\n",
            "Requirement already satisfied: idna<4,>=2.5 in /usr/local/lib/python3.10/dist-packages (from requests>=2.31->yfinance) (3.6)\n",
            "Requirement already satisfied: urllib3<3,>=1.21.1 in /usr/local/lib/python3.10/dist-packages (from requests>=2.31->yfinance) (2.0.7)\n",
            "Requirement already satisfied: certifi>=2017.4.17 in /usr/local/lib/python3.10/dist-packages (from requests>=2.31->yfinance) (2024.2.2)\n",
            "Collecting tensortrade\n",
            "  Downloading tensortrade-1.0.3.tar.gz (32.6 MB)\n",
            "\u001b[2K     \u001b[90m━━━━━━━━━━━━━━━━━━━━━━━━━━━━━━━━━━━━━━━━\u001b[0m \u001b[32m32.6/32.6 MB\u001b[0m \u001b[31m6.4 MB/s\u001b[0m eta \u001b[36m0:00:00\u001b[0m\n",
            "\u001b[?25h  Preparing metadata (setup.py) ... \u001b[?25l\u001b[?25hdone\n",
            "Requirement already satisfied: numpy>=1.17.0 in /usr/local/lib/python3.10/dist-packages (from tensortrade) (1.23.5)\n",
            "Requirement already satisfied: pandas>=0.25.0 in /usr/local/lib/python3.10/dist-packages (from tensortrade) (1.5.3)\n",
            "Requirement already satisfied: gym>=0.14.0 in /usr/local/lib/python3.10/dist-packages (from tensortrade) (0.25.2)\n",
            "Requirement already satisfied: pyyaml>=5.1.2 in /usr/local/lib/python3.10/dist-packages (from tensortrade) (6.0.1)\n",
            "Collecting stochastic>=0.6.0 (from tensortrade)\n",
            "  Downloading stochastic-0.7.0-py3-none-any.whl (48 kB)\n",
            "\u001b[2K     \u001b[90m━━━━━━━━━━━━━━━━━━━━━━━━━━━━━━━━━━━━━━━━\u001b[0m \u001b[32m48.1/48.1 kB\u001b[0m \u001b[31m5.3 MB/s\u001b[0m eta \u001b[36m0:00:00\u001b[0m\n",
            "\u001b[?25hRequirement already satisfied: tensorflow>=2.1.0 in /usr/local/lib/python3.10/dist-packages (from tensortrade) (2.15.0)\n",
            "Requirement already satisfied: ipython>=7.12.0 in /usr/local/lib/python3.10/dist-packages (from tensortrade) (7.34.0)\n",
            "Requirement already satisfied: matplotlib>=3.1.1 in /usr/local/lib/python3.10/dist-packages (from tensortrade) (3.7.1)\n",
            "Requirement already satisfied: plotly>=4.5.0 in /usr/local/lib/python3.10/dist-packages (from tensortrade) (5.15.0)\n",
            "Requirement already satisfied: cloudpickle>=1.2.0 in /usr/local/lib/python3.10/dist-packages (from gym>=0.14.0->tensortrade) (2.2.1)\n",
            "Requirement already satisfied: gym-notices>=0.0.4 in /usr/local/lib/python3.10/dist-packages (from gym>=0.14.0->tensortrade) (0.0.8)\n",
            "Requirement already satisfied: setuptools>=18.5 in /usr/local/lib/python3.10/dist-packages (from ipython>=7.12.0->tensortrade) (67.7.2)\n",
            "Collecting jedi>=0.16 (from ipython>=7.12.0->tensortrade)\n",
            "  Downloading jedi-0.19.1-py2.py3-none-any.whl (1.6 MB)\n",
            "\u001b[2K     \u001b[90m━━━━━━━━━━━━━━━━━━━━━━━━━━━━━━━━━━━━━━━━\u001b[0m \u001b[32m1.6/1.6 MB\u001b[0m \u001b[31m49.1 MB/s\u001b[0m eta \u001b[36m0:00:00\u001b[0m\n",
            "\u001b[?25hRequirement already satisfied: decorator in /usr/local/lib/python3.10/dist-packages (from ipython>=7.12.0->tensortrade) (4.4.2)\n",
            "Requirement already satisfied: pickleshare in /usr/local/lib/python3.10/dist-packages (from ipython>=7.12.0->tensortrade) (0.7.5)\n",
            "Requirement already satisfied: traitlets>=4.2 in /usr/local/lib/python3.10/dist-packages (from ipython>=7.12.0->tensortrade) (5.7.1)\n",
            "Requirement already satisfied: prompt-toolkit!=3.0.0,!=3.0.1,<3.1.0,>=2.0.0 in /usr/local/lib/python3.10/dist-packages (from ipython>=7.12.0->tensortrade) (3.0.43)\n",
            "Requirement already satisfied: pygments in /usr/local/lib/python3.10/dist-packages (from ipython>=7.12.0->tensortrade) (2.16.1)\n",
            "Requirement already satisfied: backcall in /usr/local/lib/python3.10/dist-packages (from ipython>=7.12.0->tensortrade) (0.2.0)\n",
            "Requirement already satisfied: matplotlib-inline in /usr/local/lib/python3.10/dist-packages (from ipython>=7.12.0->tensortrade) (0.1.6)\n",
            "Requirement already satisfied: pexpect>4.3 in /usr/local/lib/python3.10/dist-packages (from ipython>=7.12.0->tensortrade) (4.9.0)\n",
            "Requirement already satisfied: contourpy>=1.0.1 in /usr/local/lib/python3.10/dist-packages (from matplotlib>=3.1.1->tensortrade) (1.2.0)\n",
            "Requirement already satisfied: cycler>=0.10 in /usr/local/lib/python3.10/dist-packages (from matplotlib>=3.1.1->tensortrade) (0.12.1)\n",
            "Requirement already satisfied: fonttools>=4.22.0 in /usr/local/lib/python3.10/dist-packages (from matplotlib>=3.1.1->tensortrade) (4.47.2)\n",
            "Requirement already satisfied: kiwisolver>=1.0.1 in /usr/local/lib/python3.10/dist-packages (from matplotlib>=3.1.1->tensortrade) (1.4.5)\n",
            "Requirement already satisfied: packaging>=20.0 in /usr/local/lib/python3.10/dist-packages (from matplotlib>=3.1.1->tensortrade) (23.2)\n",
            "Requirement already satisfied: pillow>=6.2.0 in /usr/local/lib/python3.10/dist-packages (from matplotlib>=3.1.1->tensortrade) (9.4.0)\n",
            "Requirement already satisfied: pyparsing>=2.3.1 in /usr/local/lib/python3.10/dist-packages (from matplotlib>=3.1.1->tensortrade) (3.1.1)\n",
            "Requirement already satisfied: python-dateutil>=2.7 in /usr/local/lib/python3.10/dist-packages (from matplotlib>=3.1.1->tensortrade) (2.8.2)\n",
            "Requirement already satisfied: pytz>=2020.1 in /usr/local/lib/python3.10/dist-packages (from pandas>=0.25.0->tensortrade) (2023.4)\n",
            "Requirement already satisfied: tenacity>=6.2.0 in /usr/local/lib/python3.10/dist-packages (from plotly>=4.5.0->tensortrade) (8.2.3)\n",
            "Requirement already satisfied: scipy<2.0,>=1.8 in /usr/local/lib/python3.10/dist-packages (from stochastic>=0.6.0->tensortrade) (1.11.4)\n",
            "Requirement already satisfied: absl-py>=1.0.0 in /usr/local/lib/python3.10/dist-packages (from tensorflow>=2.1.0->tensortrade) (1.4.0)\n",
            "Requirement already satisfied: astunparse>=1.6.0 in /usr/local/lib/python3.10/dist-packages (from tensorflow>=2.1.0->tensortrade) (1.6.3)\n",
            "Requirement already satisfied: flatbuffers>=23.5.26 in /usr/local/lib/python3.10/dist-packages (from tensorflow>=2.1.0->tensortrade) (23.5.26)\n",
            "Requirement already satisfied: gast!=0.5.0,!=0.5.1,!=0.5.2,>=0.2.1 in /usr/local/lib/python3.10/dist-packages (from tensorflow>=2.1.0->tensortrade) (0.5.4)\n",
            "Requirement already satisfied: google-pasta>=0.1.1 in /usr/local/lib/python3.10/dist-packages (from tensorflow>=2.1.0->tensortrade) (0.2.0)\n",
            "Requirement already satisfied: h5py>=2.9.0 in /usr/local/lib/python3.10/dist-packages (from tensorflow>=2.1.0->tensortrade) (3.9.0)\n",
            "Requirement already satisfied: libclang>=13.0.0 in /usr/local/lib/python3.10/dist-packages (from tensorflow>=2.1.0->tensortrade) (16.0.6)\n",
            "Requirement already satisfied: ml-dtypes~=0.2.0 in /usr/local/lib/python3.10/dist-packages (from tensorflow>=2.1.0->tensortrade) (0.2.0)\n",
            "Requirement already satisfied: opt-einsum>=2.3.2 in /usr/local/lib/python3.10/dist-packages (from tensorflow>=2.1.0->tensortrade) (3.3.0)\n",
            "Requirement already satisfied: protobuf!=4.21.0,!=4.21.1,!=4.21.2,!=4.21.3,!=4.21.4,!=4.21.5,<5.0.0dev,>=3.20.3 in /usr/local/lib/python3.10/dist-packages (from tensorflow>=2.1.0->tensortrade) (3.20.3)\n",
            "Requirement already satisfied: six>=1.12.0 in /usr/local/lib/python3.10/dist-packages (from tensorflow>=2.1.0->tensortrade) (1.16.0)\n",
            "Requirement already satisfied: termcolor>=1.1.0 in /usr/local/lib/python3.10/dist-packages (from tensorflow>=2.1.0->tensortrade) (2.4.0)\n",
            "Requirement already satisfied: typing-extensions>=3.6.6 in /usr/local/lib/python3.10/dist-packages (from tensorflow>=2.1.0->tensortrade) (4.9.0)\n",
            "Requirement already satisfied: wrapt<1.15,>=1.11.0 in /usr/local/lib/python3.10/dist-packages (from tensorflow>=2.1.0->tensortrade) (1.14.1)\n",
            "Requirement already satisfied: tensorflow-io-gcs-filesystem>=0.23.1 in /usr/local/lib/python3.10/dist-packages (from tensorflow>=2.1.0->tensortrade) (0.35.0)\n",
            "Requirement already satisfied: grpcio<2.0,>=1.24.3 in /usr/local/lib/python3.10/dist-packages (from tensorflow>=2.1.0->tensortrade) (1.60.1)\n",
            "Requirement already satisfied: tensorboard<2.16,>=2.15 in /usr/local/lib/python3.10/dist-packages (from tensorflow>=2.1.0->tensortrade) (2.15.1)\n",
            "Requirement already satisfied: tensorflow-estimator<2.16,>=2.15.0 in /usr/local/lib/python3.10/dist-packages (from tensorflow>=2.1.0->tensortrade) (2.15.0)\n",
            "Requirement already satisfied: keras<2.16,>=2.15.0 in /usr/local/lib/python3.10/dist-packages (from tensorflow>=2.1.0->tensortrade) (2.15.0)\n",
            "Requirement already satisfied: wheel<1.0,>=0.23.0 in /usr/local/lib/python3.10/dist-packages (from astunparse>=1.6.0->tensorflow>=2.1.0->tensortrade) (0.42.0)\n",
            "Requirement already satisfied: parso<0.9.0,>=0.8.3 in /usr/local/lib/python3.10/dist-packages (from jedi>=0.16->ipython>=7.12.0->tensortrade) (0.8.3)\n",
            "Requirement already satisfied: ptyprocess>=0.5 in /usr/local/lib/python3.10/dist-packages (from pexpect>4.3->ipython>=7.12.0->tensortrade) (0.7.0)\n",
            "Requirement already satisfied: wcwidth in /usr/local/lib/python3.10/dist-packages (from prompt-toolkit!=3.0.0,!=3.0.1,<3.1.0,>=2.0.0->ipython>=7.12.0->tensortrade) (0.2.13)\n",
            "Requirement already satisfied: google-auth<3,>=1.6.3 in /usr/local/lib/python3.10/dist-packages (from tensorboard<2.16,>=2.15->tensorflow>=2.1.0->tensortrade) (2.17.3)\n",
            "Requirement already satisfied: google-auth-oauthlib<2,>=0.5 in /usr/local/lib/python3.10/dist-packages (from tensorboard<2.16,>=2.15->tensorflow>=2.1.0->tensortrade) (1.2.0)\n",
            "Requirement already satisfied: markdown>=2.6.8 in /usr/local/lib/python3.10/dist-packages (from tensorboard<2.16,>=2.15->tensorflow>=2.1.0->tensortrade) (3.5.2)\n",
            "Requirement already satisfied: requests<3,>=2.21.0 in /usr/local/lib/python3.10/dist-packages (from tensorboard<2.16,>=2.15->tensorflow>=2.1.0->tensortrade) (2.31.0)\n",
            "Requirement already satisfied: tensorboard-data-server<0.8.0,>=0.7.0 in /usr/local/lib/python3.10/dist-packages (from tensorboard<2.16,>=2.15->tensorflow>=2.1.0->tensortrade) (0.7.2)\n",
            "Requirement already satisfied: werkzeug>=1.0.1 in /usr/local/lib/python3.10/dist-packages (from tensorboard<2.16,>=2.15->tensorflow>=2.1.0->tensortrade) (3.0.1)\n",
            "Requirement already satisfied: cachetools<6.0,>=2.0.0 in /usr/local/lib/python3.10/dist-packages (from google-auth<3,>=1.6.3->tensorboard<2.16,>=2.15->tensorflow>=2.1.0->tensortrade) (5.3.2)\n",
            "Requirement already satisfied: pyasn1-modules>=0.2.1 in /usr/local/lib/python3.10/dist-packages (from google-auth<3,>=1.6.3->tensorboard<2.16,>=2.15->tensorflow>=2.1.0->tensortrade) (0.3.0)\n",
            "Requirement already satisfied: rsa<5,>=3.1.4 in /usr/local/lib/python3.10/dist-packages (from google-auth<3,>=1.6.3->tensorboard<2.16,>=2.15->tensorflow>=2.1.0->tensortrade) (4.9)\n",
            "Requirement already satisfied: requests-oauthlib>=0.7.0 in /usr/local/lib/python3.10/dist-packages (from google-auth-oauthlib<2,>=0.5->tensorboard<2.16,>=2.15->tensorflow>=2.1.0->tensortrade) (1.3.1)\n",
            "Requirement already satisfied: charset-normalizer<4,>=2 in /usr/local/lib/python3.10/dist-packages (from requests<3,>=2.21.0->tensorboard<2.16,>=2.15->tensorflow>=2.1.0->tensortrade) (3.3.2)\n",
            "Requirement already satisfied: idna<4,>=2.5 in /usr/local/lib/python3.10/dist-packages (from requests<3,>=2.21.0->tensorboard<2.16,>=2.15->tensorflow>=2.1.0->tensortrade) (3.6)\n",
            "Requirement already satisfied: urllib3<3,>=1.21.1 in /usr/local/lib/python3.10/dist-packages (from requests<3,>=2.21.0->tensorboard<2.16,>=2.15->tensorflow>=2.1.0->tensortrade) (2.0.7)\n",
            "Requirement already satisfied: certifi>=2017.4.17 in /usr/local/lib/python3.10/dist-packages (from requests<3,>=2.21.0->tensorboard<2.16,>=2.15->tensorflow>=2.1.0->tensortrade) (2024.2.2)\n",
            "Requirement already satisfied: MarkupSafe>=2.1.1 in /usr/local/lib/python3.10/dist-packages (from werkzeug>=1.0.1->tensorboard<2.16,>=2.15->tensorflow>=2.1.0->tensortrade) (2.1.5)\n",
            "Requirement already satisfied: pyasn1<0.6.0,>=0.4.6 in /usr/local/lib/python3.10/dist-packages (from pyasn1-modules>=0.2.1->google-auth<3,>=1.6.3->tensorboard<2.16,>=2.15->tensorflow>=2.1.0->tensortrade) (0.5.1)\n",
            "Requirement already satisfied: oauthlib>=3.0.0 in /usr/local/lib/python3.10/dist-packages (from requests-oauthlib>=0.7.0->google-auth-oauthlib<2,>=0.5->tensorboard<2.16,>=2.15->tensorflow>=2.1.0->tensortrade) (3.2.2)\n",
            "Building wheels for collected packages: tensortrade\n",
            "  Building wheel for tensortrade (setup.py) ... \u001b[?25l\u001b[?25hdone\n",
            "  Created wheel for tensortrade: filename=tensortrade-1.0.3-py3-none-any.whl size=134844 sha256=b60b10a9cf33c1515dceeded8bb6b229a455fdb218edafc58ff4b7e3eaf55565\n",
            "  Stored in directory: /root/.cache/pip/wheels/7f/a7/75/792c00b8bcd136448db22cd2ca4b4bf0856a58a7dea881bcfc\n",
            "Successfully built tensortrade\n",
            "Installing collected packages: jedi, stochastic, tensortrade\n",
            "Successfully installed jedi-0.19.1 stochastic-0.7.0 tensortrade-1.0.3\n"
          ]
        }
      ],
      "source": [
        "!pip install yfinance\n",
        "!pip install tensortrade"
      ]
    },
    {
      "cell_type": "markdown",
      "source": [
        "# Install Python Libraries"
      ],
      "metadata": {
        "id": "BMQj5mWv5AHL"
      }
    },
    {
      "cell_type": "code",
      "source": [
        "import yfinance as yf\n",
        "import pandas as pd\n",
        "import numpy as np\n",
        "import matplotlib.pyplot as plt\n",
        "\n",
        "import tensortrade.env.default as default\n",
        "from tensortrade.feed.core import Stream, DataFeed, NameSpace\n",
        "from tensortrade.oms.instruments import Instrument\n",
        "from tensortrade.oms.wallets import Wallet, Portfolio\n",
        "from tensortrade.oms.exchanges import Exchange, ExchangeOptions\n",
        "from tensortrade.oms.services.execution.simulated import execute_order\n",
        "from tensortrade.env.default.renderers import PlotlyTradingChart, FileLogger"
      ],
      "metadata": {
        "colab": {
          "base_uri": "https://localhost:8080/"
        },
        "id": "dpPHs3Zh4_IF",
        "outputId": "8c16a217-4ff7-4668-921d-e952133dc163"
      },
      "execution_count": 2,
      "outputs": [
        {
          "output_type": "stream",
          "name": "stderr",
          "text": [
            "/usr/local/lib/python3.10/dist-packages/yfinance/base.py:48: FutureWarning: The default dtype for empty Series will be 'object' instead of 'float64' in a future version. Specify a dtype explicitly to silence this warning.\n",
            "  _empty_series = pd.Series()\n"
          ]
        }
      ]
    },
    {
      "cell_type": "markdown",
      "source": [
        "# Download AOT from 2015 to 2023"
      ],
      "metadata": {
        "id": "7RXnnAv944UQ"
      }
    },
    {
      "cell_type": "code",
      "source": [
        "data_frame = yf.download(\"AOT.BK\", \"2015-01-01\", \"2023-12-31\")\n",
        "data_frame.head()"
      ],
      "metadata": {
        "colab": {
          "base_uri": "https://localhost:8080/",
          "height": 310
        },
        "id": "udtC0GMJ5ThK",
        "outputId": "9c2a2b94-dafa-469b-d808-19e7397afdce"
      },
      "execution_count": 3,
      "outputs": [
        {
          "output_type": "stream",
          "name": "stderr",
          "text": [
            "/usr/local/lib/python3.10/dist-packages/ipykernel/ipkernel.py:283: DeprecationWarning: `should_run_async` will not call `transform_cell` automatically in the future. Please pass the result to `transformed_cell` argument and any exception that happen during thetransform in `preprocessing_exc_tuple` in IPython 7.17 and above.\n",
            "  and should_run_async(code)\n",
            "[*********************100%%**********************]  1 of 1 completed\n"
          ]
        },
        {
          "output_type": "execute_result",
          "data": {
            "text/plain": [
              "            Open       High        Low      Close  Adj Close    Volume\n",
              "Date                                                                  \n",
              "2015-01-05  28.0  28.000000  27.200001  27.299999  24.920395  24970000\n",
              "2015-01-06  26.9  27.400000  26.700001  27.200001  24.829109  24309000\n",
              "2015-01-07  27.5  28.299999  27.500000  28.299999  25.833229  20682000\n",
              "2015-01-08  28.9  29.000000  28.600000  28.900000  26.380930  23039000\n",
              "2015-01-09  29.1  29.299999  28.900000  29.100000  26.563499  34221000"
            ],
            "text/html": [
              "\n",
              "  <div id=\"df-5ffa868f-57f9-4492-abf2-bdc73302f615\" class=\"colab-df-container\">\n",
              "    <div>\n",
              "<style scoped>\n",
              "    .dataframe tbody tr th:only-of-type {\n",
              "        vertical-align: middle;\n",
              "    }\n",
              "\n",
              "    .dataframe tbody tr th {\n",
              "        vertical-align: top;\n",
              "    }\n",
              "\n",
              "    .dataframe thead th {\n",
              "        text-align: right;\n",
              "    }\n",
              "</style>\n",
              "<table border=\"1\" class=\"dataframe\">\n",
              "  <thead>\n",
              "    <tr style=\"text-align: right;\">\n",
              "      <th></th>\n",
              "      <th>Open</th>\n",
              "      <th>High</th>\n",
              "      <th>Low</th>\n",
              "      <th>Close</th>\n",
              "      <th>Adj Close</th>\n",
              "      <th>Volume</th>\n",
              "    </tr>\n",
              "    <tr>\n",
              "      <th>Date</th>\n",
              "      <th></th>\n",
              "      <th></th>\n",
              "      <th></th>\n",
              "      <th></th>\n",
              "      <th></th>\n",
              "      <th></th>\n",
              "    </tr>\n",
              "  </thead>\n",
              "  <tbody>\n",
              "    <tr>\n",
              "      <th>2015-01-05</th>\n",
              "      <td>28.0</td>\n",
              "      <td>28.000000</td>\n",
              "      <td>27.200001</td>\n",
              "      <td>27.299999</td>\n",
              "      <td>24.920395</td>\n",
              "      <td>24970000</td>\n",
              "    </tr>\n",
              "    <tr>\n",
              "      <th>2015-01-06</th>\n",
              "      <td>26.9</td>\n",
              "      <td>27.400000</td>\n",
              "      <td>26.700001</td>\n",
              "      <td>27.200001</td>\n",
              "      <td>24.829109</td>\n",
              "      <td>24309000</td>\n",
              "    </tr>\n",
              "    <tr>\n",
              "      <th>2015-01-07</th>\n",
              "      <td>27.5</td>\n",
              "      <td>28.299999</td>\n",
              "      <td>27.500000</td>\n",
              "      <td>28.299999</td>\n",
              "      <td>25.833229</td>\n",
              "      <td>20682000</td>\n",
              "    </tr>\n",
              "    <tr>\n",
              "      <th>2015-01-08</th>\n",
              "      <td>28.9</td>\n",
              "      <td>29.000000</td>\n",
              "      <td>28.600000</td>\n",
              "      <td>28.900000</td>\n",
              "      <td>26.380930</td>\n",
              "      <td>23039000</td>\n",
              "    </tr>\n",
              "    <tr>\n",
              "      <th>2015-01-09</th>\n",
              "      <td>29.1</td>\n",
              "      <td>29.299999</td>\n",
              "      <td>28.900000</td>\n",
              "      <td>29.100000</td>\n",
              "      <td>26.563499</td>\n",
              "      <td>34221000</td>\n",
              "    </tr>\n",
              "  </tbody>\n",
              "</table>\n",
              "</div>\n",
              "    <div class=\"colab-df-buttons\">\n",
              "\n",
              "  <div class=\"colab-df-container\">\n",
              "    <button class=\"colab-df-convert\" onclick=\"convertToInteractive('df-5ffa868f-57f9-4492-abf2-bdc73302f615')\"\n",
              "            title=\"Convert this dataframe to an interactive table.\"\n",
              "            style=\"display:none;\">\n",
              "\n",
              "  <svg xmlns=\"http://www.w3.org/2000/svg\" height=\"24px\" viewBox=\"0 -960 960 960\">\n",
              "    <path d=\"M120-120v-720h720v720H120Zm60-500h600v-160H180v160Zm220 220h160v-160H400v160Zm0 220h160v-160H400v160ZM180-400h160v-160H180v160Zm440 0h160v-160H620v160ZM180-180h160v-160H180v160Zm440 0h160v-160H620v160Z\"/>\n",
              "  </svg>\n",
              "    </button>\n",
              "\n",
              "  <style>\n",
              "    .colab-df-container {\n",
              "      display:flex;\n",
              "      gap: 12px;\n",
              "    }\n",
              "\n",
              "    .colab-df-convert {\n",
              "      background-color: #E8F0FE;\n",
              "      border: none;\n",
              "      border-radius: 50%;\n",
              "      cursor: pointer;\n",
              "      display: none;\n",
              "      fill: #1967D2;\n",
              "      height: 32px;\n",
              "      padding: 0 0 0 0;\n",
              "      width: 32px;\n",
              "    }\n",
              "\n",
              "    .colab-df-convert:hover {\n",
              "      background-color: #E2EBFA;\n",
              "      box-shadow: 0px 1px 2px rgba(60, 64, 67, 0.3), 0px 1px 3px 1px rgba(60, 64, 67, 0.15);\n",
              "      fill: #174EA6;\n",
              "    }\n",
              "\n",
              "    .colab-df-buttons div {\n",
              "      margin-bottom: 4px;\n",
              "    }\n",
              "\n",
              "    [theme=dark] .colab-df-convert {\n",
              "      background-color: #3B4455;\n",
              "      fill: #D2E3FC;\n",
              "    }\n",
              "\n",
              "    [theme=dark] .colab-df-convert:hover {\n",
              "      background-color: #434B5C;\n",
              "      box-shadow: 0px 1px 3px 1px rgba(0, 0, 0, 0.15);\n",
              "      filter: drop-shadow(0px 1px 2px rgba(0, 0, 0, 0.3));\n",
              "      fill: #FFFFFF;\n",
              "    }\n",
              "  </style>\n",
              "\n",
              "    <script>\n",
              "      const buttonEl =\n",
              "        document.querySelector('#df-5ffa868f-57f9-4492-abf2-bdc73302f615 button.colab-df-convert');\n",
              "      buttonEl.style.display =\n",
              "        google.colab.kernel.accessAllowed ? 'block' : 'none';\n",
              "\n",
              "      async function convertToInteractive(key) {\n",
              "        const element = document.querySelector('#df-5ffa868f-57f9-4492-abf2-bdc73302f615');\n",
              "        const dataTable =\n",
              "          await google.colab.kernel.invokeFunction('convertToInteractive',\n",
              "                                                    [key], {});\n",
              "        if (!dataTable) return;\n",
              "\n",
              "        const docLinkHtml = 'Like what you see? Visit the ' +\n",
              "          '<a target=\"_blank\" href=https://colab.research.google.com/notebooks/data_table.ipynb>data table notebook</a>'\n",
              "          + ' to learn more about interactive tables.';\n",
              "        element.innerHTML = '';\n",
              "        dataTable['output_type'] = 'display_data';\n",
              "        await google.colab.output.renderOutput(dataTable, element);\n",
              "        const docLink = document.createElement('div');\n",
              "        docLink.innerHTML = docLinkHtml;\n",
              "        element.appendChild(docLink);\n",
              "      }\n",
              "    </script>\n",
              "  </div>\n",
              "\n",
              "\n",
              "<div id=\"df-b42913c8-df0f-4fc2-acbb-2ada13da9010\">\n",
              "  <button class=\"colab-df-quickchart\" onclick=\"quickchart('df-b42913c8-df0f-4fc2-acbb-2ada13da9010')\"\n",
              "            title=\"Suggest charts\"\n",
              "            style=\"display:none;\">\n",
              "\n",
              "<svg xmlns=\"http://www.w3.org/2000/svg\" height=\"24px\"viewBox=\"0 0 24 24\"\n",
              "     width=\"24px\">\n",
              "    <g>\n",
              "        <path d=\"M19 3H5c-1.1 0-2 .9-2 2v14c0 1.1.9 2 2 2h14c1.1 0 2-.9 2-2V5c0-1.1-.9-2-2-2zM9 17H7v-7h2v7zm4 0h-2V7h2v10zm4 0h-2v-4h2v4z\"/>\n",
              "    </g>\n",
              "</svg>\n",
              "  </button>\n",
              "\n",
              "<style>\n",
              "  .colab-df-quickchart {\n",
              "      --bg-color: #E8F0FE;\n",
              "      --fill-color: #1967D2;\n",
              "      --hover-bg-color: #E2EBFA;\n",
              "      --hover-fill-color: #174EA6;\n",
              "      --disabled-fill-color: #AAA;\n",
              "      --disabled-bg-color: #DDD;\n",
              "  }\n",
              "\n",
              "  [theme=dark] .colab-df-quickchart {\n",
              "      --bg-color: #3B4455;\n",
              "      --fill-color: #D2E3FC;\n",
              "      --hover-bg-color: #434B5C;\n",
              "      --hover-fill-color: #FFFFFF;\n",
              "      --disabled-bg-color: #3B4455;\n",
              "      --disabled-fill-color: #666;\n",
              "  }\n",
              "\n",
              "  .colab-df-quickchart {\n",
              "    background-color: var(--bg-color);\n",
              "    border: none;\n",
              "    border-radius: 50%;\n",
              "    cursor: pointer;\n",
              "    display: none;\n",
              "    fill: var(--fill-color);\n",
              "    height: 32px;\n",
              "    padding: 0;\n",
              "    width: 32px;\n",
              "  }\n",
              "\n",
              "  .colab-df-quickchart:hover {\n",
              "    background-color: var(--hover-bg-color);\n",
              "    box-shadow: 0 1px 2px rgba(60, 64, 67, 0.3), 0 1px 3px 1px rgba(60, 64, 67, 0.15);\n",
              "    fill: var(--button-hover-fill-color);\n",
              "  }\n",
              "\n",
              "  .colab-df-quickchart-complete:disabled,\n",
              "  .colab-df-quickchart-complete:disabled:hover {\n",
              "    background-color: var(--disabled-bg-color);\n",
              "    fill: var(--disabled-fill-color);\n",
              "    box-shadow: none;\n",
              "  }\n",
              "\n",
              "  .colab-df-spinner {\n",
              "    border: 2px solid var(--fill-color);\n",
              "    border-color: transparent;\n",
              "    border-bottom-color: var(--fill-color);\n",
              "    animation:\n",
              "      spin 1s steps(1) infinite;\n",
              "  }\n",
              "\n",
              "  @keyframes spin {\n",
              "    0% {\n",
              "      border-color: transparent;\n",
              "      border-bottom-color: var(--fill-color);\n",
              "      border-left-color: var(--fill-color);\n",
              "    }\n",
              "    20% {\n",
              "      border-color: transparent;\n",
              "      border-left-color: var(--fill-color);\n",
              "      border-top-color: var(--fill-color);\n",
              "    }\n",
              "    30% {\n",
              "      border-color: transparent;\n",
              "      border-left-color: var(--fill-color);\n",
              "      border-top-color: var(--fill-color);\n",
              "      border-right-color: var(--fill-color);\n",
              "    }\n",
              "    40% {\n",
              "      border-color: transparent;\n",
              "      border-right-color: var(--fill-color);\n",
              "      border-top-color: var(--fill-color);\n",
              "    }\n",
              "    60% {\n",
              "      border-color: transparent;\n",
              "      border-right-color: var(--fill-color);\n",
              "    }\n",
              "    80% {\n",
              "      border-color: transparent;\n",
              "      border-right-color: var(--fill-color);\n",
              "      border-bottom-color: var(--fill-color);\n",
              "    }\n",
              "    90% {\n",
              "      border-color: transparent;\n",
              "      border-bottom-color: var(--fill-color);\n",
              "    }\n",
              "  }\n",
              "</style>\n",
              "\n",
              "  <script>\n",
              "    async function quickchart(key) {\n",
              "      const quickchartButtonEl =\n",
              "        document.querySelector('#' + key + ' button');\n",
              "      quickchartButtonEl.disabled = true;  // To prevent multiple clicks.\n",
              "      quickchartButtonEl.classList.add('colab-df-spinner');\n",
              "      try {\n",
              "        const charts = await google.colab.kernel.invokeFunction(\n",
              "            'suggestCharts', [key], {});\n",
              "      } catch (error) {\n",
              "        console.error('Error during call to suggestCharts:', error);\n",
              "      }\n",
              "      quickchartButtonEl.classList.remove('colab-df-spinner');\n",
              "      quickchartButtonEl.classList.add('colab-df-quickchart-complete');\n",
              "    }\n",
              "    (() => {\n",
              "      let quickchartButtonEl =\n",
              "        document.querySelector('#df-b42913c8-df0f-4fc2-acbb-2ada13da9010 button');\n",
              "      quickchartButtonEl.style.display =\n",
              "        google.colab.kernel.accessAllowed ? 'block' : 'none';\n",
              "    })();\n",
              "  </script>\n",
              "</div>\n",
              "    </div>\n",
              "  </div>\n"
            ]
          },
          "metadata": {},
          "execution_count": 3
        }
      ]
    },
    {
      "cell_type": "markdown",
      "source": [
        "# Build Trade Environment"
      ],
      "metadata": {
        "id": "07wF1xZx5g7n"
      }
    },
    {
      "cell_type": "code",
      "source": [
        "THB = Instrument(symbol=\"THB\", precision=2, name=\"Thai Baht\")\n",
        "AOT = Instrument(symbol=\"AOT\", precision=2, name=\"Airports of Thailand\")\n",
        "set_market = Exchange(\"set\", service=execute_order,\n",
        "                      options=ExchangeOptions(commission=0.0001))\n",
        "# build exchange market\n",
        "# commission is to 0.01%\n",
        "buy_sell_prices = data_frame['Close'].tolist() # buy and sell prices are close prices\n",
        "stream_prices = Stream.source(buy_sell_prices, dtype='float').rename(\"THB-AOT\")\n",
        "set_market = set_market(stream_prices"
      ],
      "metadata": {
        "colab": {
          "base_uri": "https://localhost:8080/"
        },
        "id": "UjaMaJwL5hsL",
        "outputId": "7411ef05-5e3a-4a5d-aaca-7d2384acc115"
      },
      "execution_count": 4,
      "outputs": [
        {
          "output_type": "stream",
          "name": "stderr",
          "text": [
            "/usr/local/lib/python3.10/dist-packages/ipykernel/ipkernel.py:283: DeprecationWarning: `should_run_async` will not call `transform_cell` automatically in the future. Please pass the result to `transformed_cell` argument and any exception that happen during thetransform in `preprocessing_exc_tuple` in IPython 7.17 and above.\n",
            "  and should_run_async(code)\n"
          ]
        }
      ]
    },
    {
      "cell_type": "markdown",
      "source": [
        "# Build Features"
      ],
      "metadata": {
        "id": "haoFx9Ll5oTe"
      }
    },
    {
      "cell_type": "code",
      "source": [
        "close_prices = data_frame.Close\n",
        "high_prices = data_frame.High\n",
        "low_prices = data_frame.Low"
      ],
      "metadata": {
        "id": "VE92h_9O5uSo"
      },
      "execution_count": 8,
      "outputs": []
    },
    {
      "cell_type": "code",
      "source": [
        "hist_len = 90 # look back 1 quarter\n",
        "streams1 = [Stream.source(\n",
        "    close_prices.shift(c)).rename(f\"close_lag{c:02d}\")\n",
        "    for c in range(1, hist_len+1)] # 0-89: historical close prices\n",
        "streams2 = [Stream.source(\n",
        "    high_prices.shift(c)).rename(f\"high_lag{c:02d}\")\n",
        "    for c in range(1, hist_len+1)] # 90-179: historical high prices\n",
        "streams3 = [Stream.source(\n",
        "    low_prices.shift(c)).rename(f\"low_lag{c:02d}\")\n",
        "    for c in range(1, hist_len+1)] # 190-239: historical low prices\n",
        "streams = streams1 + streams2 + streams3\n",
        "streams.append(Stream.source(high_prices, # today max\n",
        "                         dtype=\"float\").rename(\"max_of_day\"))\n",
        "streams.append(Stream.source(low_prices, # today min\n",
        "                         dtype=\"float\").rename(\"min_of_day\"))\n"
      ],
      "metadata": {
        "colab": {
          "base_uri": "https://localhost:8080/"
        },
        "id": "OLRKayg35p6V",
        "outputId": "57a12170-697d-4ebc-932a-b6e1b7f054a4"
      },
      "execution_count": 12,
      "outputs": [
        {
          "output_type": "stream",
          "name": "stderr",
          "text": [
            "/usr/local/lib/python3.10/dist-packages/ipykernel/ipkernel.py:283: DeprecationWarning: `should_run_async` will not call `transform_cell` automatically in the future. Please pass the result to `transformed_cell` argument and any exception that happen during thetransform in `preprocessing_exc_tuple` in IPython 7.17 and above.\n",
            "  and should_run_async(code)\n"
          ]
        }
      ]
    },
    {
      "cell_type": "markdown",
      "source": [
        "# Build Data feed"
      ],
      "metadata": {
        "id": "wn3wnfZV7YiX"
      }
    },
    {
      "cell_type": "code",
      "source": [
        "feed = DataFeed(streams)\n",
        "# 0-89: historical close prices\n",
        "# 90-179: historical high prices\n",
        "# 190-239: historical low prices\n",
        "# 240: max of the day\n",
        "# 241: min of the day"
      ],
      "metadata": {
        "id": "5_yb5Y3I7YCZ"
      },
      "execution_count": null,
      "outputs": []
    },
    {
      "cell_type": "markdown",
      "source": [
        "# Initialize Portfolios"
      ],
      "metadata": {
        "id": "8b3E1Vj-7vU7"
      }
    },
    {
      "cell_type": "code",
      "source": [
        "cash = Wallet(set_market, 100_000 * THB) # initialize at 100k THB\n",
        "asset = Wallet(set_market, 0 * AOT)\n",
        "portfolio = Portfolio(THB, [cash,\n",
        "                            asset])"
      ],
      "metadata": {
        "id": "gFvCcjUD7zv1"
      },
      "execution_count": 14,
      "outputs": []
    },
    {
      "cell_type": "markdown",
      "source": [
        "# Build Trade Environment"
      ],
      "metadata": {
        "id": "ABujDUp074me"
      }
    },
    {
      "cell_type": "code",
      "source": [
        "env = default.create(\n",
        "        portfolio=portfolio, # start with our portfolio\n",
        "        action_scheme=default.actions.BSH(cash=cash, asset=asset), # all in and out\n",
        "        # I made some changes here\n",
        "        reward_scheme=default.rewards.SimpleProfit(), # simple profit (to be used later)\n",
        "        feed=feed, # data feed for historical price\n",
        "        window_size=1, # historical data that we need\n",
        "        min_periods=hist_len # starting trading location\n",
        "        )"
      ],
      "metadata": {
        "id": "iSJRcym476iW"
      },
      "execution_count": 15,
      "outputs": []
    },
    {
      "cell_type": "markdown",
      "source": [
        "# Test the envornment"
      ],
      "metadata": {
        "id": "CHH1Q6Pe7-5K"
      }
    },
    {
      "cell_type": "code",
      "source": [
        "obs = env.reset()\n",
        "print(obs)"
      ],
      "metadata": {
        "colab": {
          "base_uri": "https://localhost:8080/"
        },
        "id": "qABHpKd98BLA",
        "outputId": "229ec06a-e899-4143-9f7a-1086d3e435c5"
      },
      "execution_count": 16,
      "outputs": [
        {
          "output_type": "stream",
          "name": "stdout",
          "text": [
            "[[29.9 28.6 28.8 28.7 28.9 28.8 28.9 28.8 28.8 29.2 29.  29.  28.9 29.1\n",
            "  29.2 29.5 29.1 29.1 29.2 29.4 29.2 30.  29.3 29.3 29.2 29.1 29.2 29.3\n",
            "  29.1 28.  28.  29.3 29.5 30.1 29.8 30.3 29.7 29.9 29.8 29.1 29.4 29.5\n",
            "  29.6 29.7 29.5 29.7 30.1 29.3 29.7 30.3 30.9 31.4 30.4 30.6 30.7 31.1\n",
            "  30.7 31.3 30.7 31.2 31.2 31.6 31.9 31.5 31.4 32.  31.6 31.4 32.2 32.4\n",
            "  32.4 30.9 31.1 31.3 31.4 31.  29.5 29.  29.  29.  28.9 28.9 28.4 29.\n",
            "  29.1 29.1 28.9 28.3 27.2 27.3 29.9 29.2 29.1 29.2 28.9 29.  29.4 29.\n",
            "  29.2 29.2 29.  29.  29.1 29.2 29.5 29.6 29.4 29.4 29.6 29.6 30.  30.1\n",
            "  29.3 29.5 29.6 29.5 29.4 29.7 29.3 28.3 29.6 29.6 30.1 30.2 30.4 30.4\n",
            "  30.2 30.4 30.  29.5 29.6 29.9 29.8 29.8 30.  30.2 30.2 29.7 30.2 30.8\n",
            "  31.4 31.4 30.9 31.1 31.2 31.3 31.4 31.3 31.3 31.5 31.7 31.9 32.1 31.8\n",
            "  32.  32.2 32.  32.5 33.3 32.4 32.4 31.2 31.7 31.7 32.  31.1 29.5 29.2\n",
            "  29.2 29.2 29.  29.2 29.3 29.3 29.4 29.3 29.  28.3 27.4 28.  28.7 28.6\n",
            "  28.4 28.5 28.5 28.4 28.9 28.7 28.8 28.6 29.  28.6 28.7 28.7 29.1 29.2\n",
            "  28.9 29.  29.2 29.1 29.2 29.  29.1 29.2 29.1 28.9 29.1 29.1 28.3 27.4\n",
            "  27.9 28.6 29.5 29.7 29.7 29.9 29.3 29.9 29.1 29.  29.3 29.4 29.5 29.3\n",
            "  29.3 29.5 29.3 29.  29.7 29.9 30.9 30.2 30.4 30.6 30.6 30.7 30.2 30.7\n",
            "  30.7 30.6 31.2 31.3 31.5 31.  31.4 31.6 31.3 31.4 32.2 31.6 31.  30.5\n",
            "  30.9 31.1 30.8 29.7 29.1 28.8 28.8 28.7 28.6 28.6 28.4 28.8 28.9 28.9\n",
            "  28.6 27.5 26.7 27.2 30.2 29.8]]\n"
          ]
        },
        {
          "output_type": "stream",
          "name": "stderr",
          "text": [
            "/usr/local/lib/python3.10/dist-packages/ipykernel/ipkernel.py:283: DeprecationWarning: `should_run_async` will not call `transform_cell` automatically in the future. Please pass the result to `transformed_cell` argument and any exception that happen during thetransform in `preprocessing_exc_tuple` in IPython 7.17 and above.\n",
            "  and should_run_async(code)\n"
          ]
        }
      ]
    },
    {
      "cell_type": "markdown",
      "source": [
        "# Moving Average Clossing\n",
        "Buy if MA(n) > MA(m) for n = 20 and m = 50"
      ],
      "metadata": {
        "id": "a4S0WwcW8GXz"
      }
    },
    {
      "cell_type": "code",
      "source": [
        "done = False\n",
        "obs = env.reset() # reset environment move to the first ate\n",
        "cnt = 0\n",
        "actions = [0] # first action no hold\n",
        "status = \"No Position\"\n",
        "p,q= pq # ARMA orders\n",
        "arch_p, arch_q = garch_pq # GARCH orders\n",
        "alpha = 0.05 # significance level at 5%\n",
        "action = 0\n",
        "while not done: # loop until all data are exhausted\n",
        "  # build trading rule here\n",
        "  action = 0 # action can be 0 for sell and 1 for buy\n",
        "  actions.append(action) # keep all action\n",
        "  obs, reward, done, info = env.step(action) # perform trading\n",
        "  print(info, portfolio.balances)\n",
        "portfolio.ledger.as_frame().head(7)"
      ],
      "metadata": {
        "id": "I4m-98kH8naT"
      },
      "execution_count": null,
      "outputs": []
    },
    {
      "cell_type": "markdown",
      "source": [
        "## Determine the trade perfomance"
      ],
      "metadata": {
        "id": "EOoplTOh83cQ"
      }
    },
    {
      "cell_type": "code",
      "source": [
        "df = pd.DataFrame(portfolio.performance) # convert profolio performance to dataframe\n",
        "df = df.T\n",
        "plt.subplot(2,1,1)\n",
        "plt.plot(df.net_worth) # plot networths\n",
        "plt.title(\"Level Crossing\")\n",
        "plt.subplot(2,1,2)\n",
        "plt.plot(actions) # plot actions"
      ],
      "metadata": {
        "id": "KucI32lN821q"
      },
      "execution_count": null,
      "outputs": []
    },
    {
      "cell_type": "code",
      "source": [
        "print(f\"Level crossing Wealth {df.net_worth.iloc[-1]:,.2f}\") # last net worth\n",
        "print(f\"Level crossing Gain {df.net_worth.iloc[-1]/100_000:,.2f}\") # last net worth\n",
        "ret = df.net_worth.pct_change(1).dropna()\n",
        "sharp_ration = ret.mean() / ret.std() #compute sharpe ratio\n",
        "print(f\"Sharpe ratio: {sharp_ration *np.sqrt(365):0.3f}\")"
      ],
      "metadata": {
        "id": "23zR2nLd8-de"
      },
      "execution_count": null,
      "outputs": []
    },
    {
      "cell_type": "markdown",
      "source": [
        "# High Low Envelop\n",
        "Buy if today price is higher than HH(30) and sell if lower than LL(30)"
      ],
      "metadata": {
        "id": "OyzXF5ij9Dgy"
      }
    },
    {
      "cell_type": "code",
      "source": [
        "cash = Wallet(set_market, 100_000 * THB) # initialize at 100k THB\n",
        "asset = Wallet(set_market, 0 * AOT)\n",
        "portfolio = Portfolio(THB, [cash,\n",
        "                            asset])\n",
        "env = default.create(\n",
        "        portfolio=portfolio, # start with our portfolio\n",
        "        action_scheme=default.actions.BSH(cash=cash, asset=asset), # all in and out\n",
        "        # I made some changes here\n",
        "        reward_scheme=default.rewards.SimpleProfit(), # simple profit (to be used later)\n",
        "        feed=feed, # data feed for historical price\n",
        "        window_size=1, # historical data that we need\n",
        "        min_periods=hist_len # starting trading location\n",
        "        )"
      ],
      "metadata": {
        "id": "3p_EC7MB9cPE"
      },
      "execution_count": null,
      "outputs": []
    },
    {
      "cell_type": "code",
      "source": [
        "done = False\n",
        "obs = env.reset() # reset environment move to the first ate\n",
        "cnt = 0\n",
        "actions = [0] # first action no hold\n",
        "status = \"No Position\"\n",
        "p,q= pq # ARMA orders\n",
        "arch_p, arch_q = garch_pq # GARCH orders\n",
        "alpha = 0.05 # significance level at 5%\n",
        "action = 0\n",
        "while not done: # loop until all data are exhausted\n",
        "  # build trading rule here\n",
        "  action = 0 # action can be 0 for sell and 1 for buy\n",
        "  actions.append(action) # keep all action\n",
        "  obs, reward, done, info = env.step(action) # perform trading\n",
        "  print(info, portfolio.balances)\n",
        "portfolio.ledger.as_frame().head(7)"
      ],
      "metadata": {
        "id": "dwVVBaLM9XnZ"
      },
      "execution_count": null,
      "outputs": []
    },
    {
      "cell_type": "code",
      "source": [
        "df2 = pd.DataFrame(portfolio.performance) # convert profolio performance to dataframe\n",
        "df2 = df2.T\n",
        "plt.subplot(2,1,1)\n",
        "plt.plot(df2.net_worth) # plot networths\n",
        "plt.title(\"High Low\")\n",
        "plt.subplot(2,1,2)\n",
        "plt.plot(actions) # plot actions"
      ],
      "metadata": {
        "id": "t6BMWcyZ99V1"
      },
      "execution_count": null,
      "outputs": []
    },
    {
      "cell_type": "code",
      "source": [
        "print(f\"High-Lower Envelop Wealth {df2.net_worth.iloc[-1]:,.2f}\") # last net worth\n",
        "print(f\"High-Lower Envelop Gain {df2.net_worth.iloc[-1]/100_000:,.2f}\") # last net worth\n",
        "ret = df2.net_worth.pct_change(1).dropna()\n",
        "sharp_ration = ret.mean() / ret.std() #compute sharpe ratio\n",
        "print(f\"Sharpe ratio: {sharp_ration *np.sqrt(365):0.3f}\")"
      ],
      "metadata": {
        "id": "6wtJMZoC9xZa"
      },
      "execution_count": null,
      "outputs": []
    },
    {
      "cell_type": "markdown",
      "source": [
        "# Trend lines crossing\n",
        "Let $T_t^u$ be upper trend line and $T^l_t$ be a lower trend line\n",
        "Buy if $P_t > T_t^u$ and sell if $P_t < T_t^l$\n"
      ],
      "metadata": {
        "id": "wAOReBDx-FlQ"
      }
    },
    {
      "cell_type": "code",
      "source": [
        "cash = Wallet(set_market, 100_000 * THB) # initialize at 100k THB\n",
        "asset = Wallet(set_market, 0 * AOT)\n",
        "portfolio = Portfolio(THB, [cash,\n",
        "                            asset])\n",
        "env = default.create(\n",
        "        portfolio=portfolio, # start with our portfolio\n",
        "        action_scheme=default.actions.BSH(cash=cash, asset=asset), # all in and out\n",
        "        # I made some changes here\n",
        "        reward_scheme=default.rewards.SimpleProfit(), # simple profit (to be used later)\n",
        "        feed=feed, # data feed for historical price\n",
        "        window_size=1, # historical data that we need\n",
        "        min_periods=hist_len # starting trading location\n",
        "        )"
      ],
      "metadata": {
        "id": "8nMOlq_E-iyo"
      },
      "execution_count": null,
      "outputs": []
    },
    {
      "cell_type": "code",
      "source": [
        "done = False\n",
        "obs = env.reset() # reset environment move to the first ate\n",
        "cnt = 0\n",
        "actions = [0] # first action no hold\n",
        "status = \"No Position\"\n",
        "p,q= pq # ARMA orders\n",
        "arch_p, arch_q = garch_pq # GARCH orders\n",
        "alpha = 0.05 # significance level at 5%\n",
        "action = 0\n",
        "while not done: # loop until all data are exhausted\n",
        "  # build trading rule here\n",
        "  action = 0 # action can be 0 for sell and 1 for buy\n",
        "  actions.append(action) # keep all action\n",
        "  obs, reward, done, info = env.step(action) # perform trading\n",
        "  print(info, portfolio.balances)\n",
        "portfolio.ledger.as_frame().head(7)"
      ],
      "metadata": {
        "id": "ixgsAquv-nxf"
      },
      "execution_count": null,
      "outputs": []
    },
    {
      "cell_type": "code",
      "source": [
        "df3 = pd.DataFrame(portfolio.performance) # convert profolio performance to dataframe\n",
        "df3 = df3.T\n",
        "plt.subplot(2,1,1)\n",
        "plt.plot(df3.net_worth) # plot networths\n",
        "plt.title(\"Trend Line Crossing\")\n",
        "plt.subplot(2,1,2)\n",
        "plt.plot(actions) # plot actions"
      ],
      "metadata": {
        "id": "SvMRGXUh-p6C"
      },
      "execution_count": null,
      "outputs": []
    },
    {
      "cell_type": "code",
      "source": [
        "print(f\"Trend Line Crossing Wealth {df2.net_worth.iloc[-1]:,.2f}\") # last net worth\n",
        "print(f\"Trend Line Crossing Gain {df2.net_worth.iloc[-1]/100_000:,.2f}\") # last net worth\n",
        "ret = df2.net_worth.pct_change(1).dropna()\n",
        "sharp_ration = ret.mean() / ret.std() #compute sharpe ratio\n",
        "print(f\"Sharpe ratio: {sharp_ration *np.sqrt(365):0.3f}\")"
      ],
      "metadata": {
        "id": "vdyW39zK-ugK"
      },
      "execution_count": null,
      "outputs": []
    }
  ]
}